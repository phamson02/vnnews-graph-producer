{
 "cells": [
  {
   "cell_type": "code",
   "execution_count": null,
   "metadata": {},
   "outputs": [],
   "source": [
    "%pip install git+https://GITHUB_TOKEN@github.com/phamson02/vnnews-graph-producer.git -q"
   ]
  },
  {
   "cell_type": "code",
   "execution_count": null,
   "metadata": {},
   "outputs": [],
   "source": [
    "import json\n",
    "from vnnews_graph_producer.scraper import async_get_last_24h_articles\n",
    "\n",
    "articles = await async_get_last_24h_articles()"
   ]
  },
  {
   "cell_type": "code",
   "execution_count": null,
   "metadata": {},
   "outputs": [],
   "source": [
    "from vnnews_graph_producer.data_models.entity import Entity\n",
    "from vnnews_graph_producer.entity_extractor import get_entities_from_text\n",
    "\n",
    "from tqdm import tqdm\n",
    "\n",
    "entities: list[list[Entity]] = []\n",
    "for article in tqdm(articles, desc=\"Extracting entities\"):\n",
    "    entities.append(get_entities_from_text(article.content))"
   ]
  },
  {
   "cell_type": "code",
   "execution_count": 2,
   "metadata": {},
   "outputs": [],
   "source": [
    "from vnnews_graph_producer.data_models.graph import SubNewsGraph\n",
    "\n",
    "subgraph = SubNewsGraph.full_graph_from_article(entities[0], articles[0])\n",
    "for article, entities_in_article in zip(articles[1:], entities[1:]):\n",
    "    subgraph += SubNewsGraph.full_graph_from_article(entities_in_article, article)\n"
   ]
  },
  {
   "cell_type": "code",
   "execution_count": 3,
   "metadata": {},
   "outputs": [],
   "source": [
    "from vnnews_graph_producer.data_models.graph import NewsGraph\n",
    "\n",
    "full_graph = NewsGraph.from_subgraph(subgraph, 5)"
   ]
  },
  {
   "cell_type": "code",
   "execution_count": 5,
   "metadata": {},
   "outputs": [
    {
     "name": "stderr",
     "output_type": "stream",
     "text": [
      "100%|██████████| 1000/1000 [00:00<00:00, 5634.84it/s]\n"
     ]
    },
    {
     "name": "stdout",
     "output_type": "stream",
     "text": [
      "BarnesHut Approximation  took  0.03  seconds\n",
      "Repulsion forces  took  0.12  seconds\n",
      "Gravitational forces  took  0.00  seconds\n",
      "Attraction forces  took  0.00  seconds\n",
      "AdjustSpeedAndApplyForces step  took  0.02  seconds\n"
     ]
    }
   ],
   "source": [
    "with open(\"full_graph.json\", \"w\") as f:\n",
    "    f.write(json.dumps(full_graph.to_graph_data(), indent=4, ensure_ascii=False))"
   ]
  }
 ],
 "metadata": {
  "kernelspec": {
   "display_name": ".venv",
   "language": "python",
   "name": "python3"
  },
  "language_info": {
   "codemirror_mode": {
    "name": "ipython",
    "version": 3
   },
   "file_extension": ".py",
   "mimetype": "text/x-python",
   "name": "python",
   "nbconvert_exporter": "python",
   "pygments_lexer": "ipython3",
   "version": "3.11.9"
  }
 },
 "nbformat": 4,
 "nbformat_minor": 2
}
